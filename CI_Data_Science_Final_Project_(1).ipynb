{
  "cells": [
    {
      "cell_type": "markdown",
      "metadata": {
        "id": "K_enufjmrQQ6"
      },
      "source": [
        "<a href=\"https://codeimmersives.com\"><img src = \"https://www.codeimmersives.com/wp-content/uploads/2019/09/CodeImmersives_Logo_RGB_NYC_BW.png\" width = 400> </a>\n",
        "\n",
        "\n",
        "<h1 align=center><font size = 5>Agenda</font></h1>"
      ]
    },
    {
      "cell_type": "code",
      "execution_count": 70,
      "metadata": {
        "id": "kWCGbWtyrQQ8"
      },
      "outputs": [
        {
          "data": {
            "text/plain": [
              "\"\\nYou are a consulting firm tasked to examine the hiring practice of a division of a public company. You are given the HR records of all past and present employees.  A complaint has been filed that this division discriminates against women and low wage workers.  Examine the data and come up with a conclusion. The output should be in a jupyter notebook with the following name:\\nLastname_firstname_DATASCIENCE_CAPSTONE_202106\\nEach answer should have a clear label of what you are answering using markdown.\\n\\nPart 1A\\n1 - Import employee file only the gender, salary grade and dept columns. ✅\\n2 - Fix the column dept capitalize it. ✅\\n3 - Create a data frame for every salary grade (index) with columns 'Male' and 'Female'. ✅\\n4 - Create pie charts for every Salary Grade with the ratio of men to women. ✅\\n5 - Create a data frame for every Dept (index) with columns 'Male' and 'Female'. ✅\\n6 - Create pie charts for every Dept with the ratio of men to women. ✅\\nNOTE - All charts should be automated. ✅\\n\\nPART 1B\\n\\n1 - Import employee file all columns. ✅\\n2 - Fix the case on the last name. ✅\\n3 - Create a field call Name which has the lastname, First name MI. ✅\\n4 - Create a alphabetic list of employees by last name, first name (Name). ✅\\n5 - Create a alphabetic list of employees by last name, first name (Name) for each dept. ✅\\n6 - Create a horizontal bar chart with the number of employees per dept. ✅\\n\\nPART 2A\\n\\n1 - Remove the NaN from the mi. ✅\\n2 - Import the dept_CAPSTONE.txt file. ✅\\n3 - Make the deptCode all caps. ✅\\n4 - Remove the non alpha characters in the dept name. ✅\\n5 - Make the dept name each word initial caps. ✅\\n6 - Combine the emp_file and the dept_file and join both tables on dept code.\\n7 - Create a file called ACTIVE_EMPLOYEES_BY_DEPT. Print list of all employees by dept by hire date (Descending order) with terminated employees eliminated.\\n8 - Create a histogram that shows a count of the number of employees per dept by years employed.\\n\\nPART 2B SALARY ANALYSIS\\n\\nNOTE: A normal distribution has the following attributes:\\n68% within 1 standard deviation, 95% within 2 STD, 99% within 3 STD\\n1 - Decode the salaries column\\n2 - Create a histogram of all salaries in deciles\\n3 - Calculate the mean, mode, median, and standard deviation of the salaries\\n4 - Is the salary distribution a normal distribution?\\n5 - Calculate the mean, mode, median, and standard deviation of the salaries of men\\n6 - Calculate the mean, mode, median, and standard deviation of the salaries of women\\n7 - Is the standard deviation, mean, mode, median higher for men? Calculate the % difference\\n8 - Write up- Do you think there is salary bias?\\n\\nPART 2C\\n\\nThe salary grades of 5 - 7 are considered executive salary grades - Exempt or EXECUTIVE\\nThe salary grades of 1 - 4 are considered - Non-exempt (Hourly) - NON-EXECUTIVE\\n1 - create a new column called 'Status' Label each employee record in alpha order by name as EXEMPT or NON-EXEMPT\\n2 - Calculate the mean, mode, median, and standard deviation of the salaries of each salary grade.\\n3 - Calculate the mean, mode, median, and standard deviation of the salaries of EXEMPT employees.\\n4 - Calculate the mean, mode, median, and standard deviation of the salaries of NON-EXEMPT employees.\\n5 - Create pie charts of the employee status of EXEMPT count by gender and NON-EXEMPT count by gender.\\n6 - Create scatter plots of salary grade by mean salary.\\n7 - Create a scatter plots of salary grade by mean salary for men.\\n8 - Create a scatter plots of salary grade by mean salary for women.\\n9 - Create a horizontal bar chart of EXEMPT employees by mean salary for men and women (1 chart).\\n10- Create a horizontal bar chart of NON-EXEMPT employees by mean salary for men and women (1 chart).\\n7 - Sort and output every Employee all columns by salary grade by name for every salary grade.\\n\\nPART 3A Create employee Id\\nTo construct the employee id for everyone use the following formula\\nFirst 3 letters of the last name + first 3 letters of the last name + a random 3 digit number from (1 - 99).\\nFor example the employee name is Kevin Smith id = 'SMIKEV07'.\\nIn the case of people with the same last name and first name generate a new number\\nNo duplication.\\n1 - List all employees in employee id order\\nPart 3-B - Raises\\n1 - Import the file raises_CAPSTONE.txt\\n2 - The rules for giving a raise are in the file but be careful of the order that your run the raise.\\n3 - Based on each employees salary calculate 2 fields 'Raise_Amount' and 'New_Salary'.\\n4 - Calculate the total salary for each dept.\\n5 - Chart the total salary for each dept in 1 bar chart.\\n6 - Create a pie chart that shows the percentage that each dept has of the total money allocated for raises.\\n7 - Create a pie chart to show the percent of men vs women for the raise money allocated.\\n8 - Create a pie chart to show the percent of men vs women for the raise money allocated by dept.\\n9 - Create a data frame for promotions.  If the persons salary exceeds the salary max for their salary grade. create a column.\\ncalled 'Promotion' and add the string 'PROMOTION DUE' otherwise leave blank.\\nPart 4 - Analysis\\n1 - Write about any conclusions you drew from the data.\\n2 - Are there any additional charts or analysis you could include to bolster your conclusions.\\n\""
            ]
          },
          "execution_count": 70,
          "metadata": {},
          "output_type": "execute_result"
        }
      ],
      "source": [
        "'''\n",
        "You are a consulting firm tasked to examine the hiring practice of a division of a public company. You are given the HR records of all past and present employees.  A complaint has been filed that this division discriminates against women and low wage workers.  Examine the data and come up with a conclusion. The output should be in a jupyter notebook with the following name:\n",
        "Lastname_firstname_DATASCIENCE_CAPSTONE_202106\n",
        "Each answer should have a clear label of what you are answering using markdown.\n",
        "\n",
        "Part 1A\n",
        "1 - Import employee file only the gender, salary grade and dept columns. ✅\n",
        "2 - Fix the column dept capitalize it. ✅\n",
        "3 - Create a data frame for every salary grade (index) with columns 'Male' and 'Female'. ✅\n",
        "4 - Create pie charts for every Salary Grade with the ratio of men to women. ✅\n",
        "5 - Create a data frame for every Dept (index) with columns 'Male' and 'Female'. ✅\n",
        "6 - Create pie charts for every Dept with the ratio of men to women. ✅\n",
        "NOTE - All charts should be automated. ✅\n",
        "\n",
        "PART 1B\n",
        "\n",
        "1 - Import employee file all columns. ✅\n",
        "2 - Fix the case on the last name. ✅\n",
        "3 - Create a field call Name which has the lastname, First name MI. ✅\n",
        "4 - Create a alphabetic list of employees by last name, first name (Name). ✅\n",
        "5 - Create a alphabetic list of employees by last name, first name (Name) for each dept. ✅\n",
        "6 - Create a horizontal bar chart with the number of employees per dept. ✅\n",
        "\n",
        "PART 2A\n",
        "\n",
        "1 - Remove the NaN from the mi. ✅\n",
        "2 - Import the dept_CAPSTONE.txt file. ✅\n",
        "3 - Make the deptCode all caps. ✅\n",
        "4 - Remove the non alpha characters in the dept name. ✅\n",
        "5 - Make the dept name each word initial caps. ✅\n",
        "6 - Combine the emp_file and the dept_file and join both tables on dept code. ✅\n",
        "7 - Create a file called ACTIVE_EMPLOYEES_BY_DEPT. Print list of all employees by dept by hire date (Descending order) with terminated employees eliminated. ❌\n",
        "8 - Create a histogram that shows a count of the number of employees per dept by years employed. ✅\n",
        "\n",
        "PART 2B SALARY ANALYSIS\n",
        "\n",
        "NOTE: A normal distribution has the following attributes:\n",
        "68% within 1 standard deviation, 95% within 2 STD, 99% within 3 STD.\n",
        "1 - Decode the salaries column. ✅\n",
        "2 - Create a histogram of all salaries in deciles. ✅\n",
        "3 - Calculate the mean, mode, median, and standard deviation of the salaries. ✅\n",
        "4 - Is the salary distribution a normal distribution? ❌\n",
        "5 - Calculate the mean, mode, median, and standard deviation of the salaries of men. ❌\n",
        "6 - Calculate the mean, mode, median, and standard deviation of the salaries of women. ❌\n",
        "7 - Is the standard deviation, mean, mode, median higher for men? Calculate the % difference. ❌\n",
        "8 - Write up- Do you think there is salary bias? ❌\n",
        "\n",
        "PART 2C\n",
        "\n",
        "The salary grades of 5 - 7 are considered executive salary grades - Exempt or EXECUTIVE.\n",
        "The salary grades of 1 - 4 are considered - Non-exempt (Hourly) - NON-EXECUTIVE.\n",
        "1 - create a new column called 'Status' Label each employee record in alpha order by name as EXEMPT or NON-EXEMPT.\n",
        "2 - Calculate the mean, mode, median, and standard. deviation of the salaries of each salary grade.\n",
        "3 - Calculate the mean, mode, median, and standard deviation of the salaries of EXEMPT employees.\n",
        "4 - Calculate the mean, mode, median, and standard deviation of the salaries of NON-EXEMPT employees.\n",
        "5 - Create pie charts of the employee status of EXEMPT count by gender and NON-EXEMPT count by gender.\n",
        "6 - Create scatter plots of salary grade by mean salary.\n",
        "7 - Create a scatter plots of salary grade by mean salary for men.\n",
        "8 - Create a scatter plots of salary grade by mean salary for women.\n",
        "9 - Create a horizontal bar chart of EXEMPT employees by mean salary for men and women (1 chart).\n",
        "10- Create a horizontal bar chart of NON-EXEMPT employees by mean salary for men and women (1 chart).\n",
        "7 - Sort and output every Employee all columns by salary grade by name for every salary grade.\n",
        "\n",
        "PART 3A Create employee Id\n",
        "To construct the employee id for everyone use the following formula\n",
        "First 3 letters of the last name + first 3 letters of the last name + a random 3 digit number from (1 - 99).\n",
        "For example the employee name is Kevin Smith id = 'SMIKEV07'.\n",
        "In the case of people with the same last name and first name generate a new number\n",
        "No duplication.\n",
        "1 - List all employees in employee id order\n",
        "Part 3-B - Raises\n",
        "1 - Import the file raises_CAPSTONE.txt\n",
        "2 - The rules for giving a raise are in the file but be careful of the order that your run the raise.\n",
        "3 - Based on each employees salary calculate 2 fields 'Raise_Amount' and 'New_Salary'.\n",
        "4 - Calculate the total salary for each dept.\n",
        "5 - Chart the total salary for each dept in 1 bar chart.\n",
        "6 - Create a pie chart that shows the percentage that each dept has of the total money allocated for raises.\n",
        "7 - Create a pie chart to show the percent of men vs women for the raise money allocated.\n",
        "8 - Create a pie chart to show the percent of men vs women for the raise money allocated by dept.\n",
        "9 - Create a data frame for promotions.  If the persons salary exceeds the salary max for their salary grade. create a column.\n",
        "called 'Promotion' and add the string 'PROMOTION DUE' otherwise leave blank.\n",
        "Part 4 - Analysis\n",
        "1 - Write about any conclusions you drew from the data.\n",
        "2 - Are there any additional charts or analysis you could include to bolster your conclusions.\n",
        "'''"
      ]
    },
    {
      "cell_type": "markdown",
      "metadata": {
        "id": "TMCnkAJWrQQ_"
      },
      "source": [
        "# SET UP SECTION \n",
        "Add your set up directory here"
      ]
    },
    {
      "cell_type": "code",
      "execution_count": 2,
      "metadata": {
        "id": "Wuc8vT5jrQRB"
      },
      "outputs": [
        {
          "name": "stdout",
          "output_type": "stream",
          "text": [
            "    gender    salary  dept\n",
            "0        F    $77582    hr\n",
            "1        M     38136  comp\n",
            "2        M    107483   fin\n",
            "3        M  3X429110  comp\n",
            "4        M  3X646818  proj\n",
            "..     ...       ...   ...\n",
            "673      M  3X499553   acc\n",
            "674      M    114045    hr\n",
            "675      M     33030  comp\n",
            "676      M     51120  proj\n",
            "677      M     44124  proj\n",
            "\n",
            "[678 rows x 3 columns]\n"
          ]
        }
      ],
      "source": [
        "import pandas as pd\n",
        "import numpy as np\n",
        "df = pd.read_csv('emp_file_CAPSTONE.txt')\n",
        "desired_cols = ['gender', 'salary', 'dept']\n",
        "df_selected = df[desired_cols]\n",
        "\n",
        "print(df_selected)"
      ]
    },
    {
      "cell_type": "markdown",
      "metadata": {
        "id": "gpdWYo25rQRB"
      },
      "source": [
        "<h2>Part 1-a</h2>\n",
        "1 - Import employee file only the gender,salarly grade and dept columns"
      ]
    },
    {
      "cell_type": "code",
      "execution_count": 3,
      "metadata": {
        "id": "VP_a83LnrQRB"
      },
      "outputs": [
        {
          "data": {
            "text/html": [
              "<div>\n",
              "<style scoped>\n",
              "    .dataframe tbody tr th:only-of-type {\n",
              "        vertical-align: middle;\n",
              "    }\n",
              "\n",
              "    .dataframe tbody tr th {\n",
              "        vertical-align: top;\n",
              "    }\n",
              "\n",
              "    .dataframe thead th {\n",
              "        text-align: right;\n",
              "    }\n",
              "</style>\n",
              "<table border=\"1\" class=\"dataframe\">\n",
              "  <thead>\n",
              "    <tr style=\"text-align: right;\">\n",
              "      <th></th>\n",
              "      <th>gender</th>\n",
              "      <th>sg</th>\n",
              "      <th>dept</th>\n",
              "    </tr>\n",
              "  </thead>\n",
              "  <tbody>\n",
              "    <tr>\n",
              "      <th>0</th>\n",
              "      <td>F</td>\n",
              "      <td>1</td>\n",
              "      <td>hr</td>\n",
              "    </tr>\n",
              "    <tr>\n",
              "      <th>1</th>\n",
              "      <td>M</td>\n",
              "      <td>1</td>\n",
              "      <td>comp</td>\n",
              "    </tr>\n",
              "    <tr>\n",
              "      <th>2</th>\n",
              "      <td>M</td>\n",
              "      <td>4</td>\n",
              "      <td>fin</td>\n",
              "    </tr>\n",
              "    <tr>\n",
              "      <th>3</th>\n",
              "      <td>M</td>\n",
              "      <td>7</td>\n",
              "      <td>comp</td>\n",
              "    </tr>\n",
              "    <tr>\n",
              "      <th>4</th>\n",
              "      <td>M</td>\n",
              "      <td>7</td>\n",
              "      <td>proj</td>\n",
              "    </tr>\n",
              "    <tr>\n",
              "      <th>...</th>\n",
              "      <td>...</td>\n",
              "      <td>...</td>\n",
              "      <td>...</td>\n",
              "    </tr>\n",
              "    <tr>\n",
              "      <th>673</th>\n",
              "      <td>M</td>\n",
              "      <td>6</td>\n",
              "      <td>acc</td>\n",
              "    </tr>\n",
              "    <tr>\n",
              "      <th>674</th>\n",
              "      <td>M</td>\n",
              "      <td>4</td>\n",
              "      <td>hr</td>\n",
              "    </tr>\n",
              "    <tr>\n",
              "      <th>675</th>\n",
              "      <td>M</td>\n",
              "      <td>1</td>\n",
              "      <td>comp</td>\n",
              "    </tr>\n",
              "    <tr>\n",
              "      <th>676</th>\n",
              "      <td>M</td>\n",
              "      <td>2</td>\n",
              "      <td>proj</td>\n",
              "    </tr>\n",
              "    <tr>\n",
              "      <th>677</th>\n",
              "      <td>M</td>\n",
              "      <td>2</td>\n",
              "      <td>proj</td>\n",
              "    </tr>\n",
              "  </tbody>\n",
              "</table>\n",
              "<p>678 rows × 3 columns</p>\n",
              "</div>"
            ],
            "text/plain": [
              "    gender  sg  dept\n",
              "0        F   1    hr\n",
              "1        M   1  comp\n",
              "2        M   4   fin\n",
              "3        M   7  comp\n",
              "4        M   7  proj\n",
              "..     ...  ..   ...\n",
              "673      M   6   acc\n",
              "674      M   4    hr\n",
              "675      M   1  comp\n",
              "676      M   2  proj\n",
              "677      M   2  proj\n",
              "\n",
              "[678 rows x 3 columns]"
            ]
          },
          "execution_count": 3,
          "metadata": {},
          "output_type": "execute_result"
        }
      ],
      "source": [
        "import pandas as pd\n",
        "df = pd.read_csv('emp_file_CAPSTONE.txt')\n",
        "desired_cols = ['gender', 'sg', 'dept',]\n",
        "df_selected = df[desired_cols]\n",
        "df_selected"
      ]
    },
    {
      "cell_type": "markdown",
      "metadata": {
        "id": "jr6xNkxmrQRC"
      },
      "source": [
        "2 - Fix the column dept capitalize it"
      ]
    },
    {
      "cell_type": "code",
      "execution_count": 4,
      "metadata": {
        "id": "cEBzgJ4DrQRC"
      },
      "outputs": [
        {
          "data": {
            "text/html": [
              "<div>\n",
              "<style scoped>\n",
              "    .dataframe tbody tr th:only-of-type {\n",
              "        vertical-align: middle;\n",
              "    }\n",
              "\n",
              "    .dataframe tbody tr th {\n",
              "        vertical-align: top;\n",
              "    }\n",
              "\n",
              "    .dataframe thead th {\n",
              "        text-align: right;\n",
              "    }\n",
              "</style>\n",
              "<table border=\"1\" class=\"dataframe\">\n",
              "  <thead>\n",
              "    <tr style=\"text-align: right;\">\n",
              "      <th></th>\n",
              "      <th>gender</th>\n",
              "      <th>sg</th>\n",
              "      <th>Dept</th>\n",
              "    </tr>\n",
              "  </thead>\n",
              "  <tbody>\n",
              "    <tr>\n",
              "      <th>0</th>\n",
              "      <td>F</td>\n",
              "      <td>1</td>\n",
              "      <td>hr</td>\n",
              "    </tr>\n",
              "    <tr>\n",
              "      <th>1</th>\n",
              "      <td>M</td>\n",
              "      <td>1</td>\n",
              "      <td>comp</td>\n",
              "    </tr>\n",
              "    <tr>\n",
              "      <th>2</th>\n",
              "      <td>M</td>\n",
              "      <td>4</td>\n",
              "      <td>fin</td>\n",
              "    </tr>\n",
              "    <tr>\n",
              "      <th>3</th>\n",
              "      <td>M</td>\n",
              "      <td>7</td>\n",
              "      <td>comp</td>\n",
              "    </tr>\n",
              "    <tr>\n",
              "      <th>4</th>\n",
              "      <td>M</td>\n",
              "      <td>7</td>\n",
              "      <td>proj</td>\n",
              "    </tr>\n",
              "    <tr>\n",
              "      <th>...</th>\n",
              "      <td>...</td>\n",
              "      <td>...</td>\n",
              "      <td>...</td>\n",
              "    </tr>\n",
              "    <tr>\n",
              "      <th>673</th>\n",
              "      <td>M</td>\n",
              "      <td>6</td>\n",
              "      <td>acc</td>\n",
              "    </tr>\n",
              "    <tr>\n",
              "      <th>674</th>\n",
              "      <td>M</td>\n",
              "      <td>4</td>\n",
              "      <td>hr</td>\n",
              "    </tr>\n",
              "    <tr>\n",
              "      <th>675</th>\n",
              "      <td>M</td>\n",
              "      <td>1</td>\n",
              "      <td>comp</td>\n",
              "    </tr>\n",
              "    <tr>\n",
              "      <th>676</th>\n",
              "      <td>M</td>\n",
              "      <td>2</td>\n",
              "      <td>proj</td>\n",
              "    </tr>\n",
              "    <tr>\n",
              "      <th>677</th>\n",
              "      <td>M</td>\n",
              "      <td>2</td>\n",
              "      <td>proj</td>\n",
              "    </tr>\n",
              "  </tbody>\n",
              "</table>\n",
              "<p>678 rows × 3 columns</p>\n",
              "</div>"
            ],
            "text/plain": [
              "    gender  sg  Dept\n",
              "0        F   1    hr\n",
              "1        M   1  comp\n",
              "2        M   4   fin\n",
              "3        M   7  comp\n",
              "4        M   7  proj\n",
              "..     ...  ..   ...\n",
              "673      M   6   acc\n",
              "674      M   4    hr\n",
              "675      M   1  comp\n",
              "676      M   2  proj\n",
              "677      M   2  proj\n",
              "\n",
              "[678 rows x 3 columns]"
            ]
          },
          "execution_count": 4,
          "metadata": {},
          "output_type": "execute_result"
        }
      ],
      "source": [
        "df_selected = df[['gender', 'sg', 'dept']].rename(columns={'dept': 'Dept'})\n",
        "df_selected"
      ]
    },
    {
      "cell_type": "markdown",
      "metadata": {
        "id": "-hXC7W6zrQRC"
      },
      "source": [
        "3 - Create a dataframe for every salary grade (index) with columns 'Male' and 'Female'"
      ]
    },
    {
      "cell_type": "code",
      "execution_count": 6,
      "metadata": {
        "id": "6p0SMRftrQRC"
      },
      "outputs": [
        {
          "name": "stdout",
          "output_type": "stream",
          "text": [
            "Salary Grade 1:\n",
            "   Male  Female\n",
            "1    65      22\n",
            "\n",
            "Salary Grade 2:\n",
            "   Male  Female\n",
            "2    68      26\n",
            "\n",
            "Salary Grade 3:\n",
            "   Male  Female\n",
            "3    70      32\n",
            "\n",
            "Salary Grade 4:\n",
            "   Male  Female\n",
            "4    81      22\n",
            "\n",
            "Salary Grade 5:\n",
            "   Male  Female\n",
            "5    54      34\n",
            "\n",
            "Salary Grade 6:\n",
            "   Male  Female\n",
            "6    58      34\n",
            "\n",
            "Salary Grade 7:\n",
            "   Male  Female\n",
            "7    81      31\n",
            "\n"
          ]
        }
      ],
      "source": [
        "grouped = df.groupby(['sg', 'gender'])['fn'].count().unstack()\n",
        "for sg in grouped.index:\n",
        "    male_count = grouped.loc[sg, 'M'] if 'M' in grouped.columns else 0\n",
        "    female_count = grouped.loc[sg, 'F'] if 'F' in grouped.columns else 0\n",
        "    \n",
        "    df_sg = pd.DataFrame({'Male': male_count, 'Female': female_count}, index=[sg])\n",
        "    \n",
        "    print(f'Salary Grade {sg}:\\n{df_sg}\\n')"
      ]
    },
    {
      "cell_type": "markdown",
      "metadata": {
        "id": "Pa5XuT42rQRC"
      },
      "source": [
        "4 - Create pie charts for every Salary Grade with the ratio of men to women"
      ]
    },
    {
      "cell_type": "code",
      "execution_count": 7,
      "metadata": {
        "id": "SQKu9S2DrQRC"
      },
      "outputs": [
        {
          "data": {
            "image/png": "[encoded data removed]",
            "text/plain": [
              "<Figure size 640x480 with 1 Axes>"
            ]
          },
          "metadata": {},
          "output_type": "display_data"
        },
        {
          "data": {
            "image/png": "[encoded data removed]",
            "text/plain": [
              "<Figure size 640x480 with 1 Axes>"
            ]
          },
          "metadata": {},
          "output_type": "display_data"
        },
        {
          "data": {
            "image/png": "[encoded data removed]",
            "text/plain": [
              "<Figure size 640x480 with 1 Axes>"
            ]
          },
          "metadata": {},
          "output_type": "display_data"
        },
        {
          "data": {
            "image/png": "[encoded data removed]",
            "text/plain": [
              "<Figure size 640x480 with 1 Axes>"
            ]
          },
          "metadata": {},
          "output_type": "display_data"
        },
        {
          "data": {
            "image/png": "[encoded data removed]",
            "text/plain": [
              "<Figure size 640x480 with 1 Axes>"
            ]
          },
          "metadata": {},
          "output_type": "display_data"
        },
        {
          "data": {
            "image/png": "[encoded data removed]",
            "text/plain": [
              "<Figure size 640x480 with 1 Axes>"
            ]
          },
          "metadata": {},
          "output_type": "display_data"
        },
        {
          "data": {
            "image/png": "[encoded data removed]",
            "text/plain": [
              "<Figure size 640x480 with 1 Axes>"
            ]
          },
          "metadata": {},
          "output_type": "display_data"
        }
      ],
      "source": [
        "import matplotlib.pyplot as plt\n",
        "grouped = df.groupby(['sg', 'gender'])['fn'].count().unstack()\n",
        "\n",
        "# create a pie chart for each salary grade\n",
        "for sg in grouped.index:\n",
        "    # get the male and female counts for the salary grade\n",
        "    male_count = grouped.loc[sg, 'M'] if 'M' in grouped.columns else 0\n",
        "    female_count = grouped.loc[sg, 'F'] if 'F' in grouped.columns else 0\n",
        "    \n",
        "    # create a pie chart for the salary grade\n",
        "    labels = ['Male', 'Female']\n",
        "    sizes = [male_count, female_count]\n",
        "    plt.pie(sizes, labels=labels, autopct='%1.1f%%')\n",
        "    plt.title(f'Salary Grade {sg} - Male/Female Ratio')\n",
        "    plt.show()"
      ]
    },
    {
      "cell_type": "markdown",
      "metadata": {
        "id": "LAs7f_3SrQRC"
      },
      "source": [
        "5 - Create a dataframe for every Dept (index) with columns 'Male' and 'Female'"
      ]
    },
    {
      "cell_type": "code",
      "execution_count": 8,
      "metadata": {
        "id": "KF7qGrz0rQRD"
      },
      "outputs": [
        {
          "name": "stdout",
          "output_type": "stream",
          "text": [
            "Department Group: I.T.\n",
            "      Male  Female\n",
            "I.T.    84      29\n",
            "\n",
            "Department Group: acc\n",
            "     Male  Female\n",
            "acc    60      28\n",
            "\n",
            "Department Group: comp\n",
            "      Male  Female\n",
            "comp    73      31\n",
            "\n",
            "Department Group: fin\n",
            "     Male  Female\n",
            "fin    67      31\n",
            "\n",
            "Department Group: hr\n",
            "    Male  Female\n",
            "hr    67      29\n",
            "\n",
            "Department Group: proj\n",
            "      Male  Female\n",
            "proj    65      21\n",
            "\n",
            "Department Group: pub\n",
            "     Male  Female\n",
            "pub    61      32\n",
            "\n"
          ]
        }
      ],
      "source": [
        "grouped = df.groupby(['dept', 'gender'])['fn'].count().unstack()\n",
        "dept_dfs = {}\n",
        "for dept in grouped.index:\n",
        "    \n",
        "    male_count = grouped.loc[dept, 'M'] if 'M' in grouped.columns else 0\n",
        "    female_count = grouped.loc[dept, 'F'] if 'F' in grouped.columns else 0\n",
        "    \n",
        "    df_dept = pd.DataFrame({'Male': male_count, 'Female': female_count}, index=[dept])\n",
        "    \n",
        "    dept_dfs[dept] = df_dept\n",
        "    \n",
        "for dept, df_dept in dept_dfs.items():\n",
        "    print(f'Department Group: {dept}\\n{df_dept}\\n')"
      ]
    },
    {
      "cell_type": "markdown",
      "metadata": {
        "id": "3awriM-WrQRD"
      },
      "source": [
        "6 - Create pie charts for every Dept with the ratio of men to women"
      ]
    },
    {
      "cell_type": "code",
      "execution_count": 9,
      "metadata": {
        "id": "oT20VVjNrQRD"
      },
      "outputs": [
        {
          "data": {
            "image/png": "[encoded data removed]",
            "text/plain": [
              "<Figure size 640x480 with 1 Axes>"
            ]
          },
          "metadata": {},
          "output_type": "display_data"
        },
        {
          "data": {
            "image/png": "[encoded data removed]",
            "text/plain": [
              "<Figure size 640x480 with 1 Axes>"
            ]
          },
          "metadata": {},
          "output_type": "display_data"
        },
        {
          "data": {
            "image/png": "[encoded data removed]",
            "text/plain": [
              "<Figure size 640x480 with 1 Axes>"
            ]
          },
          "metadata": {},
          "output_type": "display_data"
        },
        {
          "data": {
            "image/png": "[encoded data removed]",
            "text/plain": [
              "<Figure size 640x480 with 1 Axes>"
            ]
          },
          "metadata": {},
          "output_type": "display_data"
        },
        {
          "data": {
            "image/png": "[encoded data removed]",
            "text/plain": [
              "<Figure size 640x480 with 1 Axes>"
            ]
          },
          "metadata": {},
          "output_type": "display_data"
        },
        {
          "data": {
            "image/png": "[encoded data removed]",
            "text/plain": [
              "<Figure size 640x480 with 1 Axes>"
            ]
          },
          "metadata": {},
          "output_type": "display_data"
        },
        {
          "data": {
            "image/png": "[encoded data removed]",
            "text/plain": [
              "<Figure size 640x480 with 1 Axes>"
            ]
          },
          "metadata": {},
          "output_type": "display_data"
        }
      ],
      "source": [
        "grouped = df.groupby([\"dept\", \"gender\"])[\"fn\"].count().unstack()\n",
        "\n",
        "# create a pie chart for each department\n",
        "for dept in grouped.index:\n",
        "    # get the male and female counts for the department\n",
        "    male_count = grouped.loc[dept, \"M\"] if \"M\" in grouped.columns else 0\n",
        "    female_count = grouped.loc[dept, \"F\"] if \"F\" in grouped.columns else 0\n",
        "\n",
        "    # create a pie chart for the department\n",
        "    labels = [\"Male\", \"Female\"]\n",
        "    sizes = [male_count, female_count]\n",
        "    plt.pie(sizes, labels=labels, autopct=\"%1.1f%%\")\n",
        "    plt.title(f\"{dept} - Male/Female Ratio\")\n",
        "    plt.show()"
      ]
    },
    {
      "cell_type": "markdown",
      "metadata": {
        "id": "6zhtl7AVrQRD"
      },
      "source": [
        "<h2>Part 1-b</h2>\n",
        "1 - Import employee file all columns"
      ]
    },
    {
      "cell_type": "code",
      "execution_count": 10,
      "metadata": {
        "id": "l8gBaOdTrQRD"
      },
      "outputs": [
        {
          "data": {
            "text/plain": [
              "Index(['fn', 'ln', 'mi', 'gender', 'sg', 'salary', 'dept', 'hiredate',\n",
              "       'termdate'],\n",
              "      dtype='object')"
            ]
          },
          "execution_count": 10,
          "metadata": {},
          "output_type": "execute_result"
        }
      ],
      "source": [
        "df = pd.read_csv(\"emp_file_CAPSTONE.TXT\")\n",
        "df.columns"
      ]
    },
    {
      "cell_type": "markdown",
      "metadata": {
        "id": "hiZi-I01rQRD"
      },
      "source": [
        "2 - Fix the case on the last name"
      ]
    },
    {
      "cell_type": "code",
      "execution_count": 11,
      "metadata": {
        "id": "jVpPtRDtrQRE"
      },
      "outputs": [
        {
          "data": {
            "text/html": [
              "<div>\n",
              "<style scoped>\n",
              "    .dataframe tbody tr th:only-of-type {\n",
              "        vertical-align: middle;\n",
              "    }\n",
              "\n",
              "    .dataframe tbody tr th {\n",
              "        vertical-align: top;\n",
              "    }\n",
              "\n",
              "    .dataframe thead th {\n",
              "        text-align: right;\n",
              "    }\n",
              "</style>\n",
              "<table border=\"1\" class=\"dataframe\">\n",
              "  <thead>\n",
              "    <tr style=\"text-align: right;\">\n",
              "      <th></th>\n",
              "      <th>fn</th>\n",
              "      <th>ln</th>\n",
              "      <th>mi</th>\n",
              "      <th>gender</th>\n",
              "      <th>sg</th>\n",
              "      <th>salary</th>\n",
              "      <th>dept</th>\n",
              "      <th>hiredate</th>\n",
              "      <th>termdate</th>\n",
              "    </tr>\n",
              "  </thead>\n",
              "  <tbody>\n",
              "    <tr>\n",
              "      <th>0</th>\n",
              "      <td>Madison</td>\n",
              "      <td>Wilton</td>\n",
              "      <td>W</td>\n",
              "      <td>F</td>\n",
              "      <td>1</td>\n",
              "      <td>$77582</td>\n",
              "      <td>hr</td>\n",
              "      <td>11/22/2015</td>\n",
              "      <td></td>\n",
              "    </tr>\n",
              "    <tr>\n",
              "      <th>1</th>\n",
              "      <td>James</td>\n",
              "      <td>Smith</td>\n",
              "      <td>A</td>\n",
              "      <td>M</td>\n",
              "      <td>1</td>\n",
              "      <td>38136</td>\n",
              "      <td>comp</td>\n",
              "      <td>1/17/2018</td>\n",
              "      <td></td>\n",
              "    </tr>\n",
              "    <tr>\n",
              "      <th>2</th>\n",
              "      <td>John</td>\n",
              "      <td>Johnson</td>\n",
              "      <td>NaN</td>\n",
              "      <td>M</td>\n",
              "      <td>4</td>\n",
              "      <td>107483</td>\n",
              "      <td>fin</td>\n",
              "      <td>6/2/2017</td>\n",
              "      <td></td>\n",
              "    </tr>\n",
              "    <tr>\n",
              "      <th>3</th>\n",
              "      <td>Robert</td>\n",
              "      <td>Williams</td>\n",
              "      <td>W</td>\n",
              "      <td>M</td>\n",
              "      <td>7</td>\n",
              "      <td>3X429110</td>\n",
              "      <td>comp</td>\n",
              "      <td>11/25/2013</td>\n",
              "      <td></td>\n",
              "    </tr>\n",
              "    <tr>\n",
              "      <th>4</th>\n",
              "      <td>Michael</td>\n",
              "      <td>Brown</td>\n",
              "      <td>J</td>\n",
              "      <td>M</td>\n",
              "      <td>7</td>\n",
              "      <td>3X646818</td>\n",
              "      <td>proj</td>\n",
              "      <td>1/20/2012</td>\n",
              "      <td></td>\n",
              "    </tr>\n",
              "    <tr>\n",
              "      <th>...</th>\n",
              "      <td>...</td>\n",
              "      <td>...</td>\n",
              "      <td>...</td>\n",
              "      <td>...</td>\n",
              "      <td>...</td>\n",
              "      <td>...</td>\n",
              "      <td>...</td>\n",
              "      <td>...</td>\n",
              "      <td>...</td>\n",
              "    </tr>\n",
              "    <tr>\n",
              "      <th>673</th>\n",
              "      <td>Lawrence</td>\n",
              "      <td>Rubio</td>\n",
              "      <td>NaN</td>\n",
              "      <td>M</td>\n",
              "      <td>6</td>\n",
              "      <td>3X499553</td>\n",
              "      <td>acc</td>\n",
              "      <td>11/14/2011</td>\n",
              "      <td></td>\n",
              "    </tr>\n",
              "    <tr>\n",
              "      <th>674</th>\n",
              "      <td>Austin</td>\n",
              "      <td>Choi</td>\n",
              "      <td>NaN</td>\n",
              "      <td>M</td>\n",
              "      <td>4</td>\n",
              "      <td>114045</td>\n",
              "      <td>hr</td>\n",
              "      <td>6/10/2017</td>\n",
              "      <td></td>\n",
              "    </tr>\n",
              "    <tr>\n",
              "      <th>675</th>\n",
              "      <td>Joe</td>\n",
              "      <td>Huffman</td>\n",
              "      <td>G</td>\n",
              "      <td>M</td>\n",
              "      <td>1</td>\n",
              "      <td>33030</td>\n",
              "      <td>comp</td>\n",
              "      <td>3/22/2016</td>\n",
              "      <td></td>\n",
              "    </tr>\n",
              "    <tr>\n",
              "      <th>676</th>\n",
              "      <td>Noah</td>\n",
              "      <td>Boyer</td>\n",
              "      <td>F</td>\n",
              "      <td>M</td>\n",
              "      <td>2</td>\n",
              "      <td>51120</td>\n",
              "      <td>proj</td>\n",
              "      <td>10/8/2017</td>\n",
              "      <td></td>\n",
              "    </tr>\n",
              "    <tr>\n",
              "      <th>677</th>\n",
              "      <td>Jesse</td>\n",
              "      <td>Garrison</td>\n",
              "      <td>G</td>\n",
              "      <td>M</td>\n",
              "      <td>2</td>\n",
              "      <td>44124</td>\n",
              "      <td>proj</td>\n",
              "      <td>3/1/2017</td>\n",
              "      <td></td>\n",
              "    </tr>\n",
              "  </tbody>\n",
              "</table>\n",
              "<p>678 rows × 9 columns</p>\n",
              "</div>"
            ],
            "text/plain": [
              "           fn        ln   mi gender  sg    salary  dept    hiredate termdate\n",
              "0     Madison    Wilton    W      F   1    $77582    hr  11/22/2015         \n",
              "1       James     Smith    A      M   1     38136  comp   1/17/2018         \n",
              "2        John   Johnson  NaN      M   4    107483   fin    6/2/2017         \n",
              "3      Robert  Williams    W      M   7  3X429110  comp  11/25/2013         \n",
              "4     Michael     Brown    J      M   7  3X646818  proj   1/20/2012         \n",
              "..        ...       ...  ...    ...  ..       ...   ...         ...      ...\n",
              "673  Lawrence     Rubio  NaN      M   6  3X499553   acc  11/14/2011         \n",
              "674    Austin      Choi  NaN      M   4    114045    hr   6/10/2017         \n",
              "675       Joe   Huffman    G      M   1     33030  comp   3/22/2016         \n",
              "676      Noah     Boyer    F      M   2     51120  proj   10/8/2017         \n",
              "677     Jesse  Garrison    G      M   2     44124  proj    3/1/2017         \n",
              "\n",
              "[678 rows x 9 columns]"
            ]
          },
          "execution_count": 11,
          "metadata": {},
          "output_type": "execute_result"
        }
      ],
      "source": [
        "df['ln'] = df['ln'].str.title()\n",
        "df"
      ]
    },
    {
      "cell_type": "markdown",
      "metadata": {
        "id": "WpVPZM3drQRE"
      },
      "source": [
        "3 - Create a field call Name which has the lastname, First name MI"
      ]
    },
    {
      "cell_type": "code",
      "execution_count": 12,
      "metadata": {
        "id": "7OaOh9ZtrQRE"
      },
      "outputs": [
        {
          "data": {
            "text/html": [
              "<div>\n",
              "<style scoped>\n",
              "    .dataframe tbody tr th:only-of-type {\n",
              "        vertical-align: middle;\n",
              "    }\n",
              "\n",
              "    .dataframe tbody tr th {\n",
              "        vertical-align: top;\n",
              "    }\n",
              "\n",
              "    .dataframe thead th {\n",
              "        text-align: right;\n",
              "    }\n",
              "</style>\n",
              "<table border=\"1\" class=\"dataframe\">\n",
              "  <thead>\n",
              "    <tr style=\"text-align: right;\">\n",
              "      <th></th>\n",
              "      <th>fn</th>\n",
              "      <th>ln</th>\n",
              "      <th>mi</th>\n",
              "      <th>gender</th>\n",
              "      <th>sg</th>\n",
              "      <th>salary</th>\n",
              "      <th>dept</th>\n",
              "      <th>hiredate</th>\n",
              "      <th>termdate</th>\n",
              "      <th>Name</th>\n",
              "    </tr>\n",
              "  </thead>\n",
              "  <tbody>\n",
              "    <tr>\n",
              "      <th>0</th>\n",
              "      <td>Madison</td>\n",
              "      <td>Wilton</td>\n",
              "      <td>W</td>\n",
              "      <td>F</td>\n",
              "      <td>1</td>\n",
              "      <td>$77582</td>\n",
              "      <td>hr</td>\n",
              "      <td>11/22/2015</td>\n",
              "      <td></td>\n",
              "      <td>Wilton, Madison W</td>\n",
              "    </tr>\n",
              "    <tr>\n",
              "      <th>1</th>\n",
              "      <td>James</td>\n",
              "      <td>Smith</td>\n",
              "      <td>A</td>\n",
              "      <td>M</td>\n",
              "      <td>1</td>\n",
              "      <td>38136</td>\n",
              "      <td>comp</td>\n",
              "      <td>1/17/2018</td>\n",
              "      <td></td>\n",
              "      <td>Smith, James A</td>\n",
              "    </tr>\n",
              "    <tr>\n",
              "      <th>2</th>\n",
              "      <td>John</td>\n",
              "      <td>Johnson</td>\n",
              "      <td>NaN</td>\n",
              "      <td>M</td>\n",
              "      <td>4</td>\n",
              "      <td>107483</td>\n",
              "      <td>fin</td>\n",
              "      <td>6/2/2017</td>\n",
              "      <td></td>\n",
              "      <td>Johnson, John</td>\n",
              "    </tr>\n",
              "    <tr>\n",
              "      <th>3</th>\n",
              "      <td>Robert</td>\n",
              "      <td>Williams</td>\n",
              "      <td>W</td>\n",
              "      <td>M</td>\n",
              "      <td>7</td>\n",
              "      <td>3X429110</td>\n",
              "      <td>comp</td>\n",
              "      <td>11/25/2013</td>\n",
              "      <td></td>\n",
              "      <td>Williams, Robert W</td>\n",
              "    </tr>\n",
              "    <tr>\n",
              "      <th>4</th>\n",
              "      <td>Michael</td>\n",
              "      <td>Brown</td>\n",
              "      <td>J</td>\n",
              "      <td>M</td>\n",
              "      <td>7</td>\n",
              "      <td>3X646818</td>\n",
              "      <td>proj</td>\n",
              "      <td>1/20/2012</td>\n",
              "      <td></td>\n",
              "      <td>Brown, Michael J</td>\n",
              "    </tr>\n",
              "    <tr>\n",
              "      <th>...</th>\n",
              "      <td>...</td>\n",
              "      <td>...</td>\n",
              "      <td>...</td>\n",
              "      <td>...</td>\n",
              "      <td>...</td>\n",
              "      <td>...</td>\n",
              "      <td>...</td>\n",
              "      <td>...</td>\n",
              "      <td>...</td>\n",
              "      <td>...</td>\n",
              "    </tr>\n",
              "    <tr>\n",
              "      <th>673</th>\n",
              "      <td>Lawrence</td>\n",
              "      <td>Rubio</td>\n",
              "      <td>NaN</td>\n",
              "      <td>M</td>\n",
              "      <td>6</td>\n",
              "      <td>3X499553</td>\n",
              "      <td>acc</td>\n",
              "      <td>11/14/2011</td>\n",
              "      <td></td>\n",
              "      <td>Rubio, Lawrence</td>\n",
              "    </tr>\n",
              "    <tr>\n",
              "      <th>674</th>\n",
              "      <td>Austin</td>\n",
              "      <td>Choi</td>\n",
              "      <td>NaN</td>\n",
              "      <td>M</td>\n",
              "      <td>4</td>\n",
              "      <td>114045</td>\n",
              "      <td>hr</td>\n",
              "      <td>6/10/2017</td>\n",
              "      <td></td>\n",
              "      <td>Choi, Austin</td>\n",
              "    </tr>\n",
              "    <tr>\n",
              "      <th>675</th>\n",
              "      <td>Joe</td>\n",
              "      <td>Huffman</td>\n",
              "      <td>G</td>\n",
              "      <td>M</td>\n",
              "      <td>1</td>\n",
              "      <td>33030</td>\n",
              "      <td>comp</td>\n",
              "      <td>3/22/2016</td>\n",
              "      <td></td>\n",
              "      <td>Huffman, Joe G</td>\n",
              "    </tr>\n",
              "    <tr>\n",
              "      <th>676</th>\n",
              "      <td>Noah</td>\n",
              "      <td>Boyer</td>\n",
              "      <td>F</td>\n",
              "      <td>M</td>\n",
              "      <td>2</td>\n",
              "      <td>51120</td>\n",
              "      <td>proj</td>\n",
              "      <td>10/8/2017</td>\n",
              "      <td></td>\n",
              "      <td>Boyer, Noah F</td>\n",
              "    </tr>\n",
              "    <tr>\n",
              "      <th>677</th>\n",
              "      <td>Jesse</td>\n",
              "      <td>Garrison</td>\n",
              "      <td>G</td>\n",
              "      <td>M</td>\n",
              "      <td>2</td>\n",
              "      <td>44124</td>\n",
              "      <td>proj</td>\n",
              "      <td>3/1/2017</td>\n",
              "      <td></td>\n",
              "      <td>Garrison, Jesse G</td>\n",
              "    </tr>\n",
              "  </tbody>\n",
              "</table>\n",
              "<p>678 rows × 10 columns</p>\n",
              "</div>"
            ],
            "text/plain": [
              "           fn        ln   mi gender  sg    salary  dept    hiredate termdate  \\\n",
              "0     Madison    Wilton    W      F   1    $77582    hr  11/22/2015            \n",
              "1       James     Smith    A      M   1     38136  comp   1/17/2018            \n",
              "2        John   Johnson  NaN      M   4    107483   fin    6/2/2017            \n",
              "3      Robert  Williams    W      M   7  3X429110  comp  11/25/2013            \n",
              "4     Michael     Brown    J      M   7  3X646818  proj   1/20/2012            \n",
              "..        ...       ...  ...    ...  ..       ...   ...         ...      ...   \n",
              "673  Lawrence     Rubio  NaN      M   6  3X499553   acc  11/14/2011            \n",
              "674    Austin      Choi  NaN      M   4    114045    hr   6/10/2017            \n",
              "675       Joe   Huffman    G      M   1     33030  comp   3/22/2016            \n",
              "676      Noah     Boyer    F      M   2     51120  proj   10/8/2017            \n",
              "677     Jesse  Garrison    G      M   2     44124  proj    3/1/2017            \n",
              "\n",
              "                   Name  \n",
              "0     Wilton, Madison W  \n",
              "1        Smith, James A  \n",
              "2         Johnson, John  \n",
              "3    Williams, Robert W  \n",
              "4      Brown, Michael J  \n",
              "..                  ...  \n",
              "673     Rubio, Lawrence  \n",
              "674        Choi, Austin  \n",
              "675      Huffman, Joe G  \n",
              "676       Boyer, Noah F  \n",
              "677   Garrison, Jesse G  \n",
              "\n",
              "[678 rows x 10 columns]"
            ]
          },
          "execution_count": 12,
          "metadata": {},
          "output_type": "execute_result"
        }
      ],
      "source": [
        "df['ln'] = df['ln'].str.title()\n",
        "df['Name'] = df['ln'] + ', ' + df['fn'] + np.where(df['mi'].isna(), '', ' ' + df['mi'])\n",
        "df"
      ]
    },
    {
      "cell_type": "markdown",
      "metadata": {
        "id": "x_MoJVCNrQRE"
      },
      "source": [
        "4 - Create a alphabetic list of employees by last name, first name (Name)"
      ]
    },
    {
      "cell_type": "code",
      "execution_count": 13,
      "metadata": {
        "id": "fEN2r5FtrQRE"
      },
      "outputs": [
        {
          "name": "stdout",
          "output_type": "stream",
          "text": [
            "                  Name\n",
            "645    Abbott, Raymond\n",
            "665   Acevedo, Keith A\n",
            "302   Acosta, Patricia\n",
            "42     Adams, Benjamin\n",
            "449     Adkins, Dennis\n",
            "..                 ...\n",
            "540    Zamora, Brandon\n",
            "667   Zavala, Gerald J\n",
            "472      Zhang, Sean W\n",
            "379  Zimmerman, Janice\n",
            "600    Zuniga, Bradley\n",
            "\n",
            "[678 rows x 1 columns]\n"
          ]
        }
      ],
      "source": [
        "df[\"ln\"] = df[\"ln\"].str.title()\n",
        "df[\"dept\"] = df[\"dept\"].str.lower()\n",
        "df[\"Name\"] = df[\"ln\"] + \", \" + df[\"fn\"] + np.where(df[\"mi\"].isna(), \"\", \" \" + df[\"mi\"])\n",
        "\n",
        "df_sorted = df.sort_values(by=[\"ln\", \"fn\"])\n",
        "\n",
        "df_list = df_sorted[[\"Name\"]]\n",
        "\n",
        "print(df_list)"
      ]
    },
    {
      "cell_type": "markdown",
      "metadata": {
        "id": "Zd4isFg8rQRE"
      },
      "source": [
        "5 - Create a alphabetic list of employees by last name, first name (Name) for each dept"
      ]
    },
    {
      "cell_type": "code",
      "execution_count": 14,
      "metadata": {
        "id": "53_edUvGrQRE"
      },
      "outputs": [
        {
          "name": "stdout",
          "output_type": "stream",
          "text": [
            "\n",
            "acc\n",
            "                   Name dept\n",
            "218   Andrews, Steven F  acc\n",
            "618   Anthony, Steven F  acc\n",
            "201       Arnold, James  acc\n",
            "395  Baldwin, Natalie G  acc\n",
            "544     Ballard, Samuel  acc\n",
            "..                  ...  ...\n",
            "319         Wade, Donna  acc\n",
            "295    Walsh, Russell F  acc\n",
            "181       Warren, Marie  acc\n",
            "587      Weiss, Gabriel  acc\n",
            "230        Willis, Ryan  acc\n",
            "\n",
            "[88 rows x 2 columns]\n",
            "\n",
            "comp\n",
            "                   Name  dept\n",
            "42      Adams, Benjamin  comp\n",
            "559        Ali, Zachary  comp\n",
            "662    Atkins, Harold P  comp\n",
            "333        Ayala, Amy F  comp\n",
            "324  Barnett, Melissa W  comp\n",
            "..                  ...   ...\n",
            "446     Walton, Patrick  comp\n",
            "491    Waters, Eugene J  comp\n",
            "570    Wilkins, Terry G  comp\n",
            "3    Williams, Robert W  comp\n",
            "474        Wolf, Austin  comp\n",
            "\n",
            "[104 rows x 2 columns]\n",
            "\n",
            "fin\n",
            "                   Name dept\n",
            "134  Aguilar, Shirley J  fin\n",
            "15     Anderson, Donald  fin\n",
            "213  Armstrong, Matthew  fin\n",
            "253      Austin, Jose J  fin\n",
            "72       Bailey, Sean F  fin\n",
            "..                  ...  ...\n",
            "152     Webb, Heather J  fin\n",
            "634   Wilkinson, Eric P  fin\n",
            "274      Wong, Austin W  fin\n",
            "379   Zimmerman, Janice  fin\n",
            "600     Zuniga, Bradley  fin\n",
            "\n",
            "[98 rows x 2 columns]\n",
            "\n",
            "hr\n",
            "                  Name dept\n",
            "665   Acevedo, Keith A   hr\n",
            "302   Acosta, Patricia   hr\n",
            "516    Andrade, Mark F   hr\n",
            "44       Baker, Samuel   hr\n",
            "558   Bautista, Nathan   hr\n",
            "..                 ...  ...\n",
            "244     Valdez, Samuel   hr\n",
            "475    Valencia, Joe W   hr\n",
            "602     Wilcox, John F   hr\n",
            "0    Wilton, Madison W   hr\n",
            "374     Wolfe, Kathryn   hr\n",
            "\n",
            "[96 rows x 2 columns]\n",
            "\n",
            "i.t.\n",
            "                  Name  dept\n",
            "449     Adkins, Dennis  i.t.\n",
            "33     Allen, Nicholas  i.t.\n",
            "92    Alvarez, Logan G  i.t.\n",
            "637  Atkinson, Larry J  i.t.\n",
            "318    Avila, Kimberly  i.t.\n",
            "..                 ...   ...\n",
            "24      White, Brian W  i.t.\n",
            "84       Wood, Dylan W  i.t.\n",
            "144        Woods, Emma  i.t.\n",
            "290        Yang, Wayne  i.t.\n",
            "598       Yoder, Bobby  i.t.\n",
            "\n",
            "[113 rows x 2 columns]\n",
            "\n",
            "proj\n",
            "                   Name  dept\n",
            "401      Aguirre, James  proj\n",
            "646  Allison, Patrick G  proj\n",
            "219    Alvarado, Andrew  proj\n",
            "581        Arias, Bruce  proj\n",
            "406     Barber, David G  proj\n",
            "..                  ...   ...\n",
            "485        Wise, Alan P  proj\n",
            "535      Yates, Stephen  proj\n",
            "540     Zamora, Brandon  proj\n",
            "667    Zavala, Gerald J  proj\n",
            "472       Zhang, Sean W  proj\n",
            "\n",
            "[86 rows x 2 columns]\n",
            "\n",
            "pub\n",
            "                      Name dept\n",
            "645        Abbott, Raymond  pub\n",
            "118  Alexander, Kimberly F  pub\n",
            "508         Ball, Joseph A  pub\n",
            "292           Banks, Logan  pub\n",
            "360       Barker, Evelyn G  pub\n",
            "..                     ...  ...\n",
            "461             Wu, Kyle A  pub\n",
            "653            Wyatt, Jose  pub\n",
            "642       York, Benjamin G  pub\n",
            "32           Young, Gary G  pub\n",
            "658           Yu, Nathan J  pub\n",
            "\n",
            "[93 rows x 2 columns]\n"
          ]
        }
      ],
      "source": [
        "df[\"ln\"] = df[\"ln\"].str.title()\n",
        "df[\"dept\"] = df[\"dept\"].str.lower()\n",
        "df[\"Name\"] = df[\"ln\"] + \", \" + df[\"fn\"] + np.where(df[\"mi\"].isna(), \"\", \" \" + df[\"mi\"])\n",
        "\n",
        "df_sorted = df.sort_values(by=[\"dept\", \"ln\", \"fn\"])\n",
        "\n",
        "df_list = df_sorted[[\"Name\", \"dept\"]]\n",
        "\n",
        "grouped = df_list.groupby(\"dept\")\n",
        "\n",
        "for dept, data in grouped:\n",
        "    print(f\"\\n{dept}\")\n",
        "    print(data)"
      ]
    },
    {
      "cell_type": "markdown",
      "metadata": {
        "id": "zT1CsvgrrQRE"
      },
      "source": [
        "6 - Create a horizontal bar chart with the number of employees per dept"
      ]
    },
    {
      "cell_type": "code",
      "execution_count": 15,
      "metadata": {
        "id": "ROgp_vRGrQRE"
      },
      "outputs": [
        {
          "data": {
            "image/png": "[encoded data removed]",
            "text/plain": [
              "<Figure size 640x480 with 1 Axes>"
            ]
          },
          "metadata": {},
          "output_type": "display_data"
        }
      ],
      "source": [
        "df[\"dept\"] = df[\"dept\"].str.lower()\n",
        "df_sorted = df.sort_values(by=[\"dept\"])\n",
        "df_list = df_sorted[[\"dept\"]]\n",
        "grouped = df_list.groupby(\"dept\").size()\n",
        "plt.barh(grouped.index, grouped)\n",
        "\n",
        "plt.xlabel('Number of Employees')\n",
        "plt.ylabel('Department')\n",
        "plt.title('Number of Employees per Department')\n",
        "\n",
        "# display the chart\n",
        "plt.show()"
      ]
    },
    {
      "cell_type": "markdown",
      "metadata": {
        "id": "XBu5TCj_rQRF"
      },
      "source": [
        "<h2>Part 2 - a</h2>\n",
        "1 - Remove the NaN from the mi"
      ]
    },
    {
      "cell_type": "code",
      "execution_count": 16,
      "metadata": {
        "id": "2oOyOed9rQRF"
      },
      "outputs": [
        {
          "data": {
            "text/html": [
              "<div>\n",
              "<style scoped>\n",
              "    .dataframe tbody tr th:only-of-type {\n",
              "        vertical-align: middle;\n",
              "    }\n",
              "\n",
              "    .dataframe tbody tr th {\n",
              "        vertical-align: top;\n",
              "    }\n",
              "\n",
              "    .dataframe thead th {\n",
              "        text-align: right;\n",
              "    }\n",
              "</style>\n",
              "<table border=\"1\" class=\"dataframe\">\n",
              "  <thead>\n",
              "    <tr style=\"text-align: right;\">\n",
              "      <th></th>\n",
              "      <th>Name</th>\n",
              "    </tr>\n",
              "  </thead>\n",
              "  <tbody>\n",
              "    <tr>\n",
              "      <th>645</th>\n",
              "      <td>Abbott, Raymond</td>\n",
              "    </tr>\n",
              "    <tr>\n",
              "      <th>665</th>\n",
              "      <td>Acevedo, Keith A</td>\n",
              "    </tr>\n",
              "    <tr>\n",
              "      <th>302</th>\n",
              "      <td>Acosta, Patricia</td>\n",
              "    </tr>\n",
              "    <tr>\n",
              "      <th>42</th>\n",
              "      <td>Adams, Benjamin</td>\n",
              "    </tr>\n",
              "    <tr>\n",
              "      <th>449</th>\n",
              "      <td>Adkins, Dennis</td>\n",
              "    </tr>\n",
              "    <tr>\n",
              "      <th>...</th>\n",
              "      <td>...</td>\n",
              "    </tr>\n",
              "    <tr>\n",
              "      <th>540</th>\n",
              "      <td>Zamora, Brandon</td>\n",
              "    </tr>\n",
              "    <tr>\n",
              "      <th>667</th>\n",
              "      <td>Zavala, Gerald J</td>\n",
              "    </tr>\n",
              "    <tr>\n",
              "      <th>472</th>\n",
              "      <td>Zhang, Sean W</td>\n",
              "    </tr>\n",
              "    <tr>\n",
              "      <th>379</th>\n",
              "      <td>Zimmerman, Janice</td>\n",
              "    </tr>\n",
              "    <tr>\n",
              "      <th>600</th>\n",
              "      <td>Zuniga, Bradley</td>\n",
              "    </tr>\n",
              "  </tbody>\n",
              "</table>\n",
              "<p>678 rows × 1 columns</p>\n",
              "</div>"
            ],
            "text/plain": [
              "                  Name\n",
              "645    Abbott, Raymond\n",
              "665   Acevedo, Keith A\n",
              "302   Acosta, Patricia\n",
              "42     Adams, Benjamin\n",
              "449     Adkins, Dennis\n",
              "..                 ...\n",
              "540    Zamora, Brandon\n",
              "667   Zavala, Gerald J\n",
              "472      Zhang, Sean W\n",
              "379  Zimmerman, Janice\n",
              "600    Zuniga, Bradley\n",
              "\n",
              "[678 rows x 1 columns]"
            ]
          },
          "execution_count": 16,
          "metadata": {},
          "output_type": "execute_result"
        }
      ],
      "source": [
        "df[\"ln\"] = df[\"ln\"].str.title()\n",
        "df[\"dept\"] = df[\"dept\"].str.lower()\n",
        "df[\"Name\"] = df[\"ln\"] + \", \" + df[\"fn\"] + np.where(df[\"mi\"].isna(), \"\", \" \" + df[\"mi\"])\n",
        "\n",
        "df_sorted = df.sort_values(by=[\"ln\", \"fn\"])\n",
        "\n",
        "df_list = df_sorted[[\"Name\"]]\n",
        "\n",
        "df_list"
      ]
    },
    {
      "cell_type": "markdown",
      "metadata": {
        "id": "JSQUEpzKrQRF"
      },
      "source": [
        "2 - Import the dept_CAPSTONE.txt file"
      ]
    },
    {
      "cell_type": "code",
      "execution_count": 17,
      "metadata": {
        "id": "bsxMA7ZjrQRF"
      },
      "outputs": [
        {
          "data": {
            "text/html": [
              "<div>\n",
              "<style scoped>\n",
              "    .dataframe tbody tr th:only-of-type {\n",
              "        vertical-align: middle;\n",
              "    }\n",
              "\n",
              "    .dataframe tbody tr th {\n",
              "        vertical-align: top;\n",
              "    }\n",
              "\n",
              "    .dataframe thead th {\n",
              "        text-align: right;\n",
              "    }\n",
              "</style>\n",
              "<table border=\"1\" class=\"dataframe\">\n",
              "  <thead>\n",
              "    <tr style=\"text-align: right;\">\n",
              "      <th></th>\n",
              "      <th>'deptCode'</th>\n",
              "      <th>'dept name'</th>\n",
              "    </tr>\n",
              "  </thead>\n",
              "  <tbody>\n",
              "    <tr>\n",
              "      <th>0</th>\n",
              "      <td>'fin'</td>\n",
              "      <td>'Finance'</td>\n",
              "    </tr>\n",
              "    <tr>\n",
              "      <th>1</th>\n",
              "      <td>'acc'</td>\n",
              "      <td>'Acco0unting'</td>\n",
              "    </tr>\n",
              "    <tr>\n",
              "      <th>2</th>\n",
              "      <td>'pub'</td>\n",
              "      <td>'Public Relations'</td>\n",
              "    </tr>\n",
              "    <tr>\n",
              "      <th>3</th>\n",
              "      <td>'hr'</td>\n",
              "      <td>'Human resou0rses$'</td>\n",
              "    </tr>\n",
              "    <tr>\n",
              "      <th>4</th>\n",
              "      <td>'comp'</td>\n",
              "      <td>'Lega@l and Compliance'</td>\n",
              "    </tr>\n",
              "    <tr>\n",
              "      <th>5</th>\n",
              "      <td>'proj'</td>\n",
              "      <td>'Project Management'</td>\n",
              "    </tr>\n",
              "    <tr>\n",
              "      <th>6</th>\n",
              "      <td>'I.T.'</td>\n",
              "      <td>'Informa1tion Technology'</td>\n",
              "    </tr>\n",
              "  </tbody>\n",
              "</table>\n",
              "</div>"
            ],
            "text/plain": [
              "  'deptCode'                'dept name'\n",
              "0      'fin'                  'Finance'\n",
              "1      'acc'              'Acco0unting'\n",
              "2      'pub'         'Public Relations'\n",
              "3       'hr'        'Human resou0rses$'\n",
              "4     'comp'    'Lega@l and Compliance'\n",
              "5     'proj'       'Project Management'\n",
              "6     'I.T.'  'Informa1tion Technology'"
            ]
          },
          "execution_count": 17,
          "metadata": {},
          "output_type": "execute_result"
        }
      ],
      "source": [
        "import pandas as pd\n",
        "df = pd.read_csv(\"dept_CAPSTONE.txt\")\n",
        "df"
      ]
    },
    {
      "cell_type": "markdown",
      "metadata": {
        "id": "HPAXFKoPrQRF"
      },
      "source": [
        "3 - Make the deptCode all caps"
      ]
    },
    {
      "cell_type": "code",
      "execution_count": 18,
      "metadata": {
        "id": "Bdn15vXTrQRF"
      },
      "outputs": [
        {
          "data": {
            "text/html": [
              "<div>\n",
              "<style scoped>\n",
              "    .dataframe tbody tr th:only-of-type {\n",
              "        vertical-align: middle;\n",
              "    }\n",
              "\n",
              "    .dataframe tbody tr th {\n",
              "        vertical-align: top;\n",
              "    }\n",
              "\n",
              "    .dataframe thead th {\n",
              "        text-align: right;\n",
              "    }\n",
              "</style>\n",
              "<table border=\"1\" class=\"dataframe\">\n",
              "  <thead>\n",
              "    <tr style=\"text-align: right;\">\n",
              "      <th></th>\n",
              "      <th>'deptCode'</th>\n",
              "      <th>'dept name'</th>\n",
              "    </tr>\n",
              "  </thead>\n",
              "  <tbody>\n",
              "    <tr>\n",
              "      <th>0</th>\n",
              "      <td>'FIN'</td>\n",
              "      <td>'Finance'</td>\n",
              "    </tr>\n",
              "    <tr>\n",
              "      <th>1</th>\n",
              "      <td>'ACC'</td>\n",
              "      <td>'Acco0unting'</td>\n",
              "    </tr>\n",
              "    <tr>\n",
              "      <th>2</th>\n",
              "      <td>'PUB'</td>\n",
              "      <td>'Public Relations'</td>\n",
              "    </tr>\n",
              "    <tr>\n",
              "      <th>3</th>\n",
              "      <td>'HR'</td>\n",
              "      <td>'Human resou0rses$'</td>\n",
              "    </tr>\n",
              "    <tr>\n",
              "      <th>4</th>\n",
              "      <td>'COMP'</td>\n",
              "      <td>'Lega@l and Compliance'</td>\n",
              "    </tr>\n",
              "    <tr>\n",
              "      <th>5</th>\n",
              "      <td>'PROJ'</td>\n",
              "      <td>'Project Management'</td>\n",
              "    </tr>\n",
              "    <tr>\n",
              "      <th>6</th>\n",
              "      <td>'I.T.'</td>\n",
              "      <td>'Informa1tion Technology'</td>\n",
              "    </tr>\n",
              "  </tbody>\n",
              "</table>\n",
              "</div>"
            ],
            "text/plain": [
              "  'deptCode'                'dept name'\n",
              "0      'FIN'                  'Finance'\n",
              "1      'ACC'              'Acco0unting'\n",
              "2      'PUB'         'Public Relations'\n",
              "3       'HR'        'Human resou0rses$'\n",
              "4     'COMP'    'Lega@l and Compliance'\n",
              "5     'PROJ'       'Project Management'\n",
              "6     'I.T.'  'Informa1tion Technology'"
            ]
          },
          "execution_count": 18,
          "metadata": {},
          "output_type": "execute_result"
        }
      ],
      "source": [
        "df = pd.read_csv(\"dept_CAPSTONE.txt\")\n",
        "df[\"'deptCode'\"] = df[\"'deptCode'\"].str.upper()\n",
        "df\n"
      ]
    },
    {
      "cell_type": "markdown",
      "metadata": {
        "id": "E7SFPhecrQRG"
      },
      "source": [
        "4 - Remove the non alpha characters in the dept name"
      ]
    },
    {
      "cell_type": "code",
      "execution_count": 19,
      "metadata": {
        "id": "KE0vHKfBrQRG"
      },
      "outputs": [
        {
          "name": "stderr",
          "output_type": "stream",
          "text": [
            "/var/folders/34/pfttjyf917lgnkkgz2stm2v00000gn/T/ipykernel_2469/2566626675.py:1: FutureWarning: The default value of regex will change from True to False in a future version.\n",
            "  df[\"'dept name'\"] = df[\"'dept name'\"].str.replace(r'[^a-zA-Z\\s]+', '')\n"
          ]
        },
        {
          "data": {
            "text/html": [
              "<div>\n",
              "<style scoped>\n",
              "    .dataframe tbody tr th:only-of-type {\n",
              "        vertical-align: middle;\n",
              "    }\n",
              "\n",
              "    .dataframe tbody tr th {\n",
              "        vertical-align: top;\n",
              "    }\n",
              "\n",
              "    .dataframe thead th {\n",
              "        text-align: right;\n",
              "    }\n",
              "</style>\n",
              "<table border=\"1\" class=\"dataframe\">\n",
              "  <thead>\n",
              "    <tr style=\"text-align: right;\">\n",
              "      <th></th>\n",
              "      <th>'deptCode'</th>\n",
              "      <th>'dept name'</th>\n",
              "    </tr>\n",
              "  </thead>\n",
              "  <tbody>\n",
              "    <tr>\n",
              "      <th>0</th>\n",
              "      <td>'FIN'</td>\n",
              "      <td>Finance</td>\n",
              "    </tr>\n",
              "    <tr>\n",
              "      <th>1</th>\n",
              "      <td>'ACC'</td>\n",
              "      <td>Accounting</td>\n",
              "    </tr>\n",
              "    <tr>\n",
              "      <th>2</th>\n",
              "      <td>'PUB'</td>\n",
              "      <td>Public Relations</td>\n",
              "    </tr>\n",
              "    <tr>\n",
              "      <th>3</th>\n",
              "      <td>'HR'</td>\n",
              "      <td>Human resourses</td>\n",
              "    </tr>\n",
              "    <tr>\n",
              "      <th>4</th>\n",
              "      <td>'COMP'</td>\n",
              "      <td>Legal and Compliance</td>\n",
              "    </tr>\n",
              "    <tr>\n",
              "      <th>5</th>\n",
              "      <td>'PROJ'</td>\n",
              "      <td>Project Management</td>\n",
              "    </tr>\n",
              "    <tr>\n",
              "      <th>6</th>\n",
              "      <td>'I.T.'</td>\n",
              "      <td>Information Technology</td>\n",
              "    </tr>\n",
              "  </tbody>\n",
              "</table>\n",
              "</div>"
            ],
            "text/plain": [
              "  'deptCode'             'dept name'\n",
              "0      'FIN'                 Finance\n",
              "1      'ACC'              Accounting\n",
              "2      'PUB'        Public Relations\n",
              "3       'HR'         Human resourses\n",
              "4     'COMP'    Legal and Compliance\n",
              "5     'PROJ'      Project Management\n",
              "6     'I.T.'  Information Technology"
            ]
          },
          "execution_count": 19,
          "metadata": {},
          "output_type": "execute_result"
        }
      ],
      "source": [
        "df[\"'dept name'\"] = df[\"'dept name'\"].str.replace(r'[^a-zA-Z\\s]+', '')\n",
        "df"
      ]
    },
    {
      "cell_type": "markdown",
      "metadata": {
        "id": "LKHdAMJIrQRG"
      },
      "source": [
        "5 - Make the dept name each word initial caps"
      ]
    },
    {
      "cell_type": "code",
      "execution_count": 20,
      "metadata": {
        "id": "xC54TrvurQRG"
      },
      "outputs": [
        {
          "data": {
            "text/html": [
              "<div>\n",
              "<style scoped>\n",
              "    .dataframe tbody tr th:only-of-type {\n",
              "        vertical-align: middle;\n",
              "    }\n",
              "\n",
              "    .dataframe tbody tr th {\n",
              "        vertical-align: top;\n",
              "    }\n",
              "\n",
              "    .dataframe thead th {\n",
              "        text-align: right;\n",
              "    }\n",
              "</style>\n",
              "<table border=\"1\" class=\"dataframe\">\n",
              "  <thead>\n",
              "    <tr style=\"text-align: right;\">\n",
              "      <th></th>\n",
              "      <th>'deptCode'</th>\n",
              "      <th>'dept name'</th>\n",
              "    </tr>\n",
              "  </thead>\n",
              "  <tbody>\n",
              "    <tr>\n",
              "      <th>0</th>\n",
              "      <td>'FIN'</td>\n",
              "      <td>Finance</td>\n",
              "    </tr>\n",
              "    <tr>\n",
              "      <th>1</th>\n",
              "      <td>'ACC'</td>\n",
              "      <td>Accounting</td>\n",
              "    </tr>\n",
              "    <tr>\n",
              "      <th>2</th>\n",
              "      <td>'PUB'</td>\n",
              "      <td>Public Relations</td>\n",
              "    </tr>\n",
              "    <tr>\n",
              "      <th>3</th>\n",
              "      <td>'HR'</td>\n",
              "      <td>Human Resourses</td>\n",
              "    </tr>\n",
              "    <tr>\n",
              "      <th>4</th>\n",
              "      <td>'COMP'</td>\n",
              "      <td>Legal And Compliance</td>\n",
              "    </tr>\n",
              "    <tr>\n",
              "      <th>5</th>\n",
              "      <td>'PROJ'</td>\n",
              "      <td>Project Management</td>\n",
              "    </tr>\n",
              "    <tr>\n",
              "      <th>6</th>\n",
              "      <td>'I.T.'</td>\n",
              "      <td>Information Technology</td>\n",
              "    </tr>\n",
              "  </tbody>\n",
              "</table>\n",
              "</div>"
            ],
            "text/plain": [
              "  'deptCode'             'dept name'\n",
              "0      'FIN'                 Finance\n",
              "1      'ACC'              Accounting\n",
              "2      'PUB'        Public Relations\n",
              "3       'HR'         Human Resourses\n",
              "4     'COMP'    Legal And Compliance\n",
              "5     'PROJ'      Project Management\n",
              "6     'I.T.'  Information Technology"
            ]
          },
          "execution_count": 20,
          "metadata": {},
          "output_type": "execute_result"
        }
      ],
      "source": [
        "df[\"'dept name'\"] = df[\"'dept name'\"].str.title()\n",
        "df"
      ]
    },
    {
      "cell_type": "markdown",
      "metadata": {
        "id": "sUr8f-68rQRG"
      },
      "source": [
        "6 - Combine the emp_file and the dept_file and join both tables on dept code"
      ]
    },
    {
      "cell_type": "code",
      "execution_count": 21,
      "metadata": {
        "id": "D-yth0CKrQRG"
      },
      "outputs": [
        {
          "data": {
            "text/html": [
              "<div>\n",
              "<style scoped>\n",
              "    .dataframe tbody tr th:only-of-type {\n",
              "        vertical-align: middle;\n",
              "    }\n",
              "\n",
              "    .dataframe tbody tr th {\n",
              "        vertical-align: top;\n",
              "    }\n",
              "\n",
              "    .dataframe thead th {\n",
              "        text-align: right;\n",
              "    }\n",
              "</style>\n",
              "<table border=\"1\" class=\"dataframe\">\n",
              "  <thead>\n",
              "    <tr style=\"text-align: right;\">\n",
              "      <th></th>\n",
              "      <th>fn</th>\n",
              "      <th>ln</th>\n",
              "      <th>mi</th>\n",
              "      <th>gender</th>\n",
              "      <th>sg</th>\n",
              "      <th>salary</th>\n",
              "      <th>dept</th>\n",
              "      <th>hiredate</th>\n",
              "      <th>termdate</th>\n",
              "      <th>DeptCode</th>\n",
              "      <th>DeptName</th>\n",
              "    </tr>\n",
              "  </thead>\n",
              "  <tbody>\n",
              "    <tr>\n",
              "      <th>0</th>\n",
              "      <td>David</td>\n",
              "      <td>GARCIA</td>\n",
              "      <td>J</td>\n",
              "      <td>M</td>\n",
              "      <td>3</td>\n",
              "      <td>69560</td>\n",
              "      <td>I.T.</td>\n",
              "      <td>11/20/2017</td>\n",
              "      <td></td>\n",
              "      <td>I.T.</td>\n",
              "      <td>Information Technology</td>\n",
              "    </tr>\n",
              "    <tr>\n",
              "      <th>1</th>\n",
              "      <td>Joseph</td>\n",
              "      <td>DAVIS</td>\n",
              "      <td>G</td>\n",
              "      <td>M</td>\n",
              "      <td>4</td>\n",
              "      <td>95368</td>\n",
              "      <td>I.T.</td>\n",
              "      <td>12/2/2015</td>\n",
              "      <td></td>\n",
              "      <td>I.T.</td>\n",
              "      <td>Information Technology</td>\n",
              "    </tr>\n",
              "    <tr>\n",
              "      <th>2</th>\n",
              "      <td>Christopher</td>\n",
              "      <td>HERNANDEZ</td>\n",
              "      <td>J</td>\n",
              "      <td>M</td>\n",
              "      <td>1</td>\n",
              "      <td>26918</td>\n",
              "      <td>I.T.</td>\n",
              "      <td>2/3/2016</td>\n",
              "      <td></td>\n",
              "      <td>I.T.</td>\n",
              "      <td>Information Technology</td>\n",
              "    </tr>\n",
              "    <tr>\n",
              "      <th>3</th>\n",
              "      <td>Daniel</td>\n",
              "      <td>LOPEZ</td>\n",
              "      <td>W</td>\n",
              "      <td>M</td>\n",
              "      <td>1</td>\n",
              "      <td>36181</td>\n",
              "      <td>I.T.</td>\n",
              "      <td>12/16/2015</td>\n",
              "      <td></td>\n",
              "      <td>I.T.</td>\n",
              "      <td>Information Technology</td>\n",
              "    </tr>\n",
              "    <tr>\n",
              "      <th>4</th>\n",
              "      <td>Matthew</td>\n",
              "      <td>GONZALEZ</td>\n",
              "      <td>NaN</td>\n",
              "      <td>M</td>\n",
              "      <td>5</td>\n",
              "      <td>130299</td>\n",
              "      <td>I.T.</td>\n",
              "      <td>7/26/2015</td>\n",
              "      <td></td>\n",
              "      <td>I.T.</td>\n",
              "      <td>Information Technology</td>\n",
              "    </tr>\n",
              "    <tr>\n",
              "      <th>...</th>\n",
              "      <td>...</td>\n",
              "      <td>...</td>\n",
              "      <td>...</td>\n",
              "      <td>...</td>\n",
              "      <td>...</td>\n",
              "      <td>...</td>\n",
              "      <td>...</td>\n",
              "      <td>...</td>\n",
              "      <td>...</td>\n",
              "      <td>...</td>\n",
              "      <td>...</td>\n",
              "    </tr>\n",
              "    <tr>\n",
              "      <th>108</th>\n",
              "      <td>Stephen</td>\n",
              "      <td>BRIDGES</td>\n",
              "      <td>A</td>\n",
              "      <td>M</td>\n",
              "      <td>4</td>\n",
              "      <td>98755</td>\n",
              "      <td>I.T.</td>\n",
              "      <td>3/10/2016</td>\n",
              "      <td></td>\n",
              "      <td>I.T.</td>\n",
              "      <td>Information Technology</td>\n",
              "    </tr>\n",
              "    <tr>\n",
              "      <th>109</th>\n",
              "      <td>Larry</td>\n",
              "      <td>ATKINSON</td>\n",
              "      <td>J</td>\n",
              "      <td>M</td>\n",
              "      <td>4</td>\n",
              "      <td>106490</td>\n",
              "      <td>I.T.</td>\n",
              "      <td>10/6/2014</td>\n",
              "      <td>3/28/2016</td>\n",
              "      <td>I.T.</td>\n",
              "      <td>Information Technology</td>\n",
              "    </tr>\n",
              "    <tr>\n",
              "      <th>110</th>\n",
              "      <td>Scott</td>\n",
              "      <td>MEZA</td>\n",
              "      <td>F</td>\n",
              "      <td>M</td>\n",
              "      <td>5</td>\n",
              "      <td>122637</td>\n",
              "      <td>I.T.</td>\n",
              "      <td>11/19/2012</td>\n",
              "      <td></td>\n",
              "      <td>I.T.</td>\n",
              "      <td>Information Technology</td>\n",
              "    </tr>\n",
              "    <tr>\n",
              "      <th>111</th>\n",
              "      <td>Ethan</td>\n",
              "      <td>HENSLEY</td>\n",
              "      <td>P</td>\n",
              "      <td>M</td>\n",
              "      <td>5</td>\n",
              "      <td>146943</td>\n",
              "      <td>I.T.</td>\n",
              "      <td>5/29/2011</td>\n",
              "      <td></td>\n",
              "      <td>I.T.</td>\n",
              "      <td>Information Technology</td>\n",
              "    </tr>\n",
              "    <tr>\n",
              "      <th>112</th>\n",
              "      <td>Christian</td>\n",
              "      <td>HARRELL</td>\n",
              "      <td>W</td>\n",
              "      <td>M</td>\n",
              "      <td>2</td>\n",
              "      <td>44298</td>\n",
              "      <td>I.T.</td>\n",
              "      <td>5/31/2015</td>\n",
              "      <td></td>\n",
              "      <td>I.T.</td>\n",
              "      <td>Information Technology</td>\n",
              "    </tr>\n",
              "  </tbody>\n",
              "</table>\n",
              "<p>113 rows × 11 columns</p>\n",
              "</div>"
            ],
            "text/plain": [
              "              fn         ln   mi gender  sg  salary  dept    hiredate  \\\n",
              "0          David     GARCIA    J      M   3   69560  I.T.  11/20/2017   \n",
              "1         Joseph      DAVIS    G      M   4   95368  I.T.   12/2/2015   \n",
              "2    Christopher  HERNANDEZ    J      M   1   26918  I.T.    2/3/2016   \n",
              "3         Daniel      LOPEZ    W      M   1   36181  I.T.  12/16/2015   \n",
              "4        Matthew   GONZALEZ  NaN      M   5  130299  I.T.   7/26/2015   \n",
              "..           ...        ...  ...    ...  ..     ...   ...         ...   \n",
              "108      Stephen    BRIDGES    A      M   4   98755  I.T.   3/10/2016   \n",
              "109        Larry   ATKINSON    J      M   4  106490  I.T.   10/6/2014   \n",
              "110        Scott       MEZA    F      M   5  122637  I.T.  11/19/2012   \n",
              "111        Ethan    HENSLEY    P      M   5  146943  I.T.   5/29/2011   \n",
              "112    Christian    HARRELL    W      M   2   44298  I.T.   5/31/2015   \n",
              "\n",
              "       termdate DeptCode                DeptName  \n",
              "0                   I.T.  Information Technology  \n",
              "1                   I.T.  Information Technology  \n",
              "2                   I.T.  Information Technology  \n",
              "3                   I.T.  Information Technology  \n",
              "4                   I.T.  Information Technology  \n",
              "..          ...      ...                     ...  \n",
              "108                 I.T.  Information Technology  \n",
              "109  3/28/2016      I.T.  Information Technology  \n",
              "110                 I.T.  Information Technology  \n",
              "111                 I.T.  Information Technology  \n",
              "112                 I.T.  Information Technology  \n",
              "\n",
              "[113 rows x 11 columns]"
            ]
          },
          "execution_count": 21,
          "metadata": {},
          "output_type": "execute_result"
        }
      ],
      "source": [
        "emp_df = pd.read_csv(\"emp_file_CAPSTONE.txt\")\n",
        "\n",
        "# REPLACE QUOTES WITH NO QUOTES\n",
        "df.columns = df.columns.str.replace(\"'\", \"\")\n",
        "\n",
        "# RENAME COLUMNS\n",
        "df = df.rename(columns={\"deptCode\": \"DeptCode\", \"dept name\": \"DeptName\"})\n",
        "\n",
        "df[\"DeptCode\"] = df[\"DeptCode\"].str.replace(\"'\", \"\")\n",
        "\n",
        "df[\"DeptName\"] = df[\"DeptName\"].str.replace(\"'\", \"\")\n",
        "\n",
        "# print(dept_df)\n",
        "\n",
        "merged_df = pd.merge(emp_df, df, left_on='dept', right_on=\"DeptCode\")\n",
        "\n",
        "merged_df\n"
      ]
    },
    {
      "cell_type": "markdown",
      "metadata": {
        "id": "8-CNR5wzrQRG"
      },
      "source": [
        "7 - Create a file called ACTIVE_EMPLOYEES_BY_DEPT. Print list of all employees by dept by hire date (Descending order)\n",
        "\twith terminated employees eliminated"
      ]
    },
    {
      "cell_type": "code",
      "execution_count": null,
      "metadata": {
        "id": "nQG95QGHrQRG"
      },
      "outputs": [],
      "source": [
        "# UNSURE OF SOLUTION"
      ]
    },
    {
      "cell_type": "markdown",
      "metadata": {
        "id": "H5uNbv8OrQRH"
      },
      "source": [
        "8 - Create a histogram that shows a count of the number of employees per dept by years employed"
      ]
    },
    {
      "cell_type": "code",
      "execution_count": 25,
      "metadata": {
        "id": "lsGW1ILfrQRH"
      },
      "outputs": [
        {
          "data": {
            "image/png": "[encoded data removed]",
            "text/plain": [
              "<Figure size 640x480 with 9 Axes>"
            ]
          },
          "metadata": {},
          "output_type": "display_data"
        }
      ],
      "source": [
        "import pandas as pd\n",
        "from datetime import datetime\n",
        "\n",
        "df = pd.read_csv('emp_file_CAPSTONE.txt')\n",
        "df['hiredate'] = pd.to_datetime(df['hiredate'])\n",
        "\n",
        "\n",
        "now = datetime.now()\n",
        "df['years_employed'] = (now - df['hiredate']).dt.days / 365\n",
        "\n",
        "\n",
        "df.hist(column='years_employed', by='dept', bins=range(0, 31, 5))\n",
        "\n",
        "plt.show()"
      ]
    },
    {
      "cell_type": "markdown",
      "metadata": {
        "id": "eSRGoUdCrQRH"
      },
      "source": [
        "<h2>Part 2 - b - SALARY ANALYSIS</h2>\n",
        "NOTE: A normal distribution has the following attributes:<br>\n",
        "68% within 1 standard deviation, 95% within 2 STD, 99% within 3 STD<br>\n",
        "1 - Decode the salaries column"
      ]
    },
    {
      "cell_type": "code",
      "execution_count": 26,
      "metadata": {
        "id": "Ww6_5ndrrQRH"
      },
      "outputs": [
        {
          "data": {
            "text/plain": [
              "0       44259\n",
              "1        5803\n",
              "2      874150\n",
              "3      196887\n",
              "4      313585\n",
              "        ...  \n",
              "673    166220\n",
              "674    881712\n",
              "675       707\n",
              "676     28897\n",
              "677     11891\n",
              "Name: salary, Length: 678, dtype: int64"
            ]
          },
          "execution_count": 26,
          "metadata": {},
          "output_type": "execute_result"
        }
      ],
      "source": [
        "import re\n",
        "\n",
        "df = pd.read_csv('emp_file_CAPSTONE.txt')\n",
        "\n",
        "df['salary'] = df['salary'].apply(lambda x: re.sub(r'\\D', '', x))\n",
        "\n",
        "df['salary'] = df['salary'].astype(int)\n",
        "\n",
        "cleaned_salaries = df['salary']\n",
        "\n",
        "scale = {\n",
        "    0: 7,\n",
        "    1: 8,\n",
        "    2: 9,\n",
        "    3: 0,\n",
        "    4: 1,\n",
        "    5: 2,\n",
        "    6: 3,\n",
        "    7: 4,\n",
        "    8: 5,\n",
        "    9: 6\n",
        "}\n",
        "\n",
        "def decode_salary(salary, scale):\n",
        "    \n",
        "    salary_str = str(salary)\n",
        "    \n",
        "    decoded_digits = [str(scale[int(digit)]) for digit in salary_str]\n",
        "    \n",
        "    decoded_salary = int(''.join(decoded_digits))\n",
        "    \n",
        "    return decoded_salary\n",
        "\n",
        "df['salary'] = df['salary'].apply(decode_salary, scale=scale)\n",
        "\n",
        "df['salary']"
      ]
    },
    {
      "cell_type": "markdown",
      "metadata": {
        "id": "lD9-qXfkrQRH"
      },
      "source": [
        "2 - Create a histogram of all salaries in deciles"
      ]
    },
    {
      "cell_type": "code",
      "execution_count": 31,
      "metadata": {
        "id": "8BTghiE2rQRJ"
      },
      "outputs": [
        {
          "data": {
            "image/png": "[encoded data removed]",
            "text/plain": [
              "<Figure size 1500x600 with 10 Axes>"
            ]
          },
          "metadata": {},
          "output_type": "display_data"
        }
      ],
      "source": [
        "df['decile'] = pd.qcut(df['salary'], q=10, labels=False)\n",
        "\n",
        "df.hist(column='salary', by='decile', bins=30, layout=(2, 5), figsize=(15, 6))\n",
        "\n",
        "plt.show()"
      ]
    },
    {
      "cell_type": "markdown",
      "metadata": {
        "id": "3vTM6b92rQRJ"
      },
      "source": [
        "3 - Calculate the mean, mode, median, and standard deviation of the salaries"
      ]
    },
    {
      "cell_type": "code",
      "execution_count": 38,
      "metadata": {
        "id": "zplmIJrIrQRJ"
      },
      "outputs": [
        {
          "name": "stdout",
          "output_type": "stream",
          "text": [
            "Mean Calc:  283064.85840707965\n",
            "Mode Calc:  707\n",
            "Median Calc:  170441.5\n",
            "Standard Dev Calc:  325234.625226237\n"
          ]
        }
      ],
      "source": [
        "mean_salary = df['salary'].mean()\n",
        "print(f\"Mean Calc: \", mean_salary)\n",
        "mode_salary = df['salary'].mode()[0]\n",
        "print(f\"Mode Calc: \", mode_salary)\n",
        "median_salary = df['salary'].median()\n",
        "print(f'Median Calc: ', median_salary)\n",
        "std_salary = df['salary'].std()\n",
        "print(f\"Standard Dev Calc: \", std_salary)"
      ]
    },
    {
      "cell_type": "markdown",
      "metadata": {
        "id": "sjxAxz0VrQRJ"
      },
      "source": [
        "4 - Is the salary distribution a normal distribution?"
      ]
    },
    {
      "cell_type": "code",
      "execution_count": null,
      "metadata": {
        "id": "kM2XSf-krQRK"
      },
      "outputs": [],
      "source": [
        "# UNSURE OF ANSWER"
      ]
    },
    {
      "cell_type": "markdown",
      "metadata": {
        "id": "vEBCBCYTrQRK"
      },
      "source": [
        "5 - Calculate the mean, mode, median, and standard deviation of the salaries of men"
      ]
    },
    {
      "cell_type": "code",
      "execution_count": 40,
      "metadata": {
        "id": "-C9rnIB7rQRK"
      },
      "outputs": [
        {
          "name": "stdout",
          "output_type": "stream",
          "text": [
            "1         38136\n",
            "2        107483\n",
            "3      3X429110\n",
            "4      3X646818\n",
            "5         96914\n",
            "         ...   \n",
            "673    3X499553\n",
            "674      114045\n",
            "675       33030\n",
            "676       51120\n",
            "677       44124\n",
            "Name: salary, Length: 477, dtype: object\n"
          ]
        }
      ],
      "source": [
        "def filter_male_salaries(df):\n",
        "    return df[df['gender'] == 'M']['salary']\n",
        "    return male_salaries\n",
        "\n",
        "df = pd.read_csv('emp_file_CAPSTONE.txt')\n",
        "male_salaries = filter_male_salaries(df)\n",
        "print(male_salaries)\n",
        "\n",
        "\n",
        "# TROUBLE FILTERING, CLEANING, AND DECODING ONLY MALE/FEMALE SALARIES - I WAS ABLE TO FILTER BUT FOUND IT VERY DIFFICULT TO CLEAN AND THAN DECODE FOR FURTHER CALCULATIONS. KEPT GETTING CANNOT CONVERT NAN TO INT"
      ]
    },
    {
      "cell_type": "markdown",
      "metadata": {
        "id": "VELu2JVNrQRK"
      },
      "source": [
        "6 - Calculate the mean, mode, median, and standard deviation of the salaries of women"
      ]
    },
    {
      "cell_type": "code",
      "execution_count": 39,
      "metadata": {
        "id": "SOX6VnSorQRK"
      },
      "outputs": [
        {
          "name": "stdout",
          "output_type": "stream",
          "text": [
            "0        $77582\n",
            "101    3X568499\n",
            "102       96648\n",
            "103       67427\n",
            "104       94822\n",
            "         ...   \n",
            "396    3X406868\n",
            "397       56254\n",
            "398       93364\n",
            "399       55624\n",
            "400    3X535835\n",
            "Name: salary, Length: 201, dtype: object\n"
          ]
        }
      ],
      "source": [
        "def filter_female_salaries(df):\n",
        "    return df[df['gender'] == 'F']['salary']\n",
        "\n",
        "df = pd.read_csv('emp_file_CAPSTONE.txt')\n",
        "female_salaries = filter_female_salaries(df)\n",
        "print(female_salaries)\n",
        "\n",
        "# TROUBLE FILTERING, CLEANING, AND DECODING ONLY MALE/FEMALE SALARIES - I WAS ABLE TO FILTER BUT FOUND IT VERY DIFFICULT TO CLEAN AND THAN DECODE FOR FURTHER CALCULATIONS. KEPT GETTING CANNOT CONVERT NAN TO INT\n"
      ]
    },
    {
      "cell_type": "markdown",
      "metadata": {
        "id": "sNSDYs1srQRK"
      },
      "source": [
        "7 - Is the standard deviation, mean, mode, median higher for men? Calulate the % difference"
      ]
    },
    {
      "cell_type": "code",
      "execution_count": null,
      "metadata": {
        "id": "I2fFOJOdrQRK"
      },
      "outputs": [],
      "source": [
        "# COULD NOT SOLVE "
      ]
    },
    {
      "cell_type": "markdown",
      "metadata": {
        "id": "inwoKxa5rQRK"
      },
      "source": [
        "8 - Write up- Do you think there is salary bias?"
      ]
    },
    {
      "cell_type": "code",
      "execution_count": null,
      "metadata": {
        "id": "F1R_ome4rQRK"
      },
      "outputs": [],
      "source": [
        "# INCONCLUSIVE"
      ]
    },
    {
      "cell_type": "markdown",
      "metadata": {
        "id": "uF8go68MrQRK"
      },
      "source": [
        "<h2>Part 2 - c</h2>\n",
        "The salary grades of 5 - 7 are considered executive salary grades - Exempt or EXECUTIVE<br>\n",
        "1 - create a new column called 'Status' Label each employee record in alpha order by name as EXEMPT or NON-EXEMPT"
      ]
    },
    {
      "cell_type": "code",
      "execution_count": null,
      "metadata": {
        "id": "5F5XOJDErQRK"
      },
      "outputs": [],
      "source": []
    },
    {
      "cell_type": "markdown",
      "metadata": {
        "id": "61MGE7kKrQRL"
      },
      "source": [
        "2 - Calculate the mean, mode, median, and standard deviation of the salaries of each salary grade"
      ]
    },
    {
      "cell_type": "code",
      "execution_count": null,
      "metadata": {
        "id": "R4zkq7A5rQRL"
      },
      "outputs": [],
      "source": []
    },
    {
      "cell_type": "markdown",
      "metadata": {
        "id": "BfyV_7i6rQRL"
      },
      "source": [
        "3 - Calculate the mean, mode, median, and standard deviation of the salaries of EXEMPT employees"
      ]
    },
    {
      "cell_type": "code",
      "execution_count": null,
      "metadata": {
        "id": "rDdN6ve5rQRL"
      },
      "outputs": [],
      "source": []
    },
    {
      "cell_type": "markdown",
      "metadata": {
        "id": "aTGtN3RArQRL"
      },
      "source": [
        "4 - Calculate the mean, mode, median, and standard deviation of the salaries of NON-EXEMPT employees"
      ]
    },
    {
      "cell_type": "code",
      "execution_count": null,
      "metadata": {
        "id": "x5z6qOHCrQRL"
      },
      "outputs": [],
      "source": []
    },
    {
      "cell_type": "markdown",
      "metadata": {
        "id": "g6pE-2ucrQRL"
      },
      "source": [
        "5 - Create pie charts of the employee status of EXEMPT count by gender and NON-EXEMPT count by gender"
      ]
    },
    {
      "cell_type": "code",
      "execution_count": null,
      "metadata": {
        "id": "ezwMN2rlrQRL"
      },
      "outputs": [],
      "source": []
    },
    {
      "cell_type": "markdown",
      "metadata": {
        "id": "JtnpiVwKrQRL"
      },
      "source": [
        "6 - Create scatter plots of salary grade by mean salary"
      ]
    },
    {
      "cell_type": "code",
      "execution_count": null,
      "metadata": {
        "id": "65uUMj0prQRM"
      },
      "outputs": [],
      "source": []
    },
    {
      "cell_type": "markdown",
      "metadata": {
        "id": "pMGCt593rQRM"
      },
      "source": [
        "7 - Create a scatter plots of salary grade by mean salary for men"
      ]
    },
    {
      "cell_type": "code",
      "execution_count": null,
      "metadata": {
        "id": "W3zxaWV4rQRM"
      },
      "outputs": [],
      "source": []
    },
    {
      "cell_type": "markdown",
      "metadata": {
        "id": "ltkH0bS1rQRM"
      },
      "source": [
        "8 - Create a scatter plots of salary grade by mean salary for women"
      ]
    },
    {
      "cell_type": "code",
      "execution_count": null,
      "metadata": {
        "id": "DcT339WhrQRM"
      },
      "outputs": [],
      "source": []
    },
    {
      "cell_type": "markdown",
      "metadata": {
        "id": "o230fgGcrQRM"
      },
      "source": [
        "9 - Create a horizontal bar chart of EXEMPT employees by mean salary for men and women (1 chart)"
      ]
    },
    {
      "cell_type": "code",
      "execution_count": null,
      "metadata": {
        "id": "1xqAK4x6rQRM"
      },
      "outputs": [],
      "source": []
    },
    {
      "cell_type": "markdown",
      "metadata": {
        "id": "geM5kvs-rQRN"
      },
      "source": [
        "10- Create a horizontal bar chart of NON-EXEMPT employees by mean salary for men and women (1 chart)"
      ]
    },
    {
      "cell_type": "code",
      "execution_count": null,
      "metadata": {
        "id": "nJksGqYsrQRN"
      },
      "outputs": [],
      "source": []
    },
    {
      "cell_type": "markdown",
      "metadata": {
        "id": "ezX3U4tprQRN"
      },
      "source": [
        "<h2>Part 3a - Create employee Id</h2>\n",
        "To construct the employee id for everyone use the following formula<br>\n",
        "First 3 letters of the last name + first 3 letters of the last name + a random 3 digit number from (1 - 99)<br>\n",
        "For example the employee name is Kevin Smith id = 'SMIKEV07'<br>\n",
        "In the case of people with the same last name and first name generate a new number<br>\n",
        "No duplication<br>\n",
        "1 - List all employees in employee id order<br>"
      ]
    },
    {
      "cell_type": "code",
      "execution_count": null,
      "metadata": {
        "id": "GhwQ1D0jrQRN"
      },
      "outputs": [],
      "source": []
    },
    {
      "cell_type": "markdown",
      "metadata": {
        "id": "3qOOX1ULrQRN"
      },
      "source": [
        "<h2>Part 3b -Raises</h2>\n",
        "1 - Import the file raises_CAPSTONE.txt<br>\n",
        "2 - The rules for giving a raise are in the file but be careful of the order that your run the raise<br>\n",
        "3 - Based on each employees salary calculate 2 fields 'Raise_Amount' and 'New_Salary'<br>\n",
        "4 - Calculate the total salary for each dept<br>\n",
        "5 - Chart the total salary for each dept in 1 bar chart<br>\n",
        "6 - Create a pie chart that shows the percentage that each dept has of the total money allocated for raises<br>\n",
        "7 - Create a pie chart to show the percent of men vs women for the raise money allocated<br>\n",
        "8 - Create a pie chart to show the percent of men vs women for the raise money allocated by dept<br>\n",
        "9 - Create a dataframe for promotions.  If the persons salary excedes the salary max for their salary grade. create a column<br>\n",
        "called 'Promotion' and add the string 'PROMOTION DUE' otherwise leave blank<br>\n"
      ]
    },
    {
      "cell_type": "code",
      "execution_count": null,
      "metadata": {
        "id": "vBYabi5yrQRN"
      },
      "outputs": [],
      "source": []
    },
    {
      "cell_type": "markdown",
      "metadata": {
        "id": "gb5aiBgerQRN"
      },
      "source": [
        "<h2>Part 4 - Analysis</h2>\n",
        "1 - Write about any conclusions you drew from the data.\n",
        "2 - Are there any additional charts or analysis you could include to bolster your conclusions"
      ]
    },
    {
      "cell_type": "code",
      "execution_count": null,
      "metadata": {
        "id": "0AanqvpfrQRN"
      },
      "outputs": [],
      "source": []
    },
    {
      "cell_type": "markdown",
      "metadata": {
        "id": "Wyhu9dl7rQRO"
      },
      "source": [
        "This notebook is part of a course at www.codeimmersives.com called Data Science. If you accessed this notebook outside the course, you can get more information about this course online by clicking here."
      ]
    },
    {
      "cell_type": "markdown",
      "metadata": {
        "id": "5Mpr2twxrQRO"
      },
      "source": [
        "<hr>\n",
        "\n",
        "Copyright &copy; 2021  Code Immersives"
      ]
    }
  ],
  "metadata": {
    "colab": {
      "provenance": []
    },
    "kernelspec": {
      "display_name": "Python 3",
      "language": "python",
      "name": "python3"
    },
    "language_info": {
      "codemirror_mode": {
        "name": "ipython",
        "version": 3
      },
      "file_extension": ".py",
      "mimetype": "text/x-python",
      "name": "python",
      "nbconvert_exporter": "python",
      "pygments_lexer": "ipython3",
      "version": "3.11.1"
    },
    "vscode": {
      "interpreter": {
        "hash": "aee8b7b246df8f9039afb4144a1f6fd8d2ca17a180786b69acc140d282b71a49"
      }
    }
  },
  "nbformat": 4,
  "nbformat_minor": 0
}
